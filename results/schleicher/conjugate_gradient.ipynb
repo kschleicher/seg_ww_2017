{
 "cells": [
  {
   "cell_type": "markdown",
   "metadata": {},
   "source": [
    "# conjugate gradient solver\n",
    "\n",
    "An exploration of the conjugate gradient solver. <br>\n",
    "Considering the particular problem of getting reflectivity from a seismic trace, given the wavelet.\n",
    "\n",
    "This was the topic of a previous tutorial which used the numpy and scipy matrix solvers.  This notebook solves same problem the conjugate gradient method and compares the result to the matrix solver results.\n",
    "\n",
    "We'll be working on a model, so we know the correct answer from the start.\n"
   ]
  },
  {
   "cell_type": "code",
   "execution_count": 1,
   "metadata": {
    "collapsed": false
   },
   "outputs": [
    {
     "name": "stdout",
     "output_type": "stream",
     "text": [
      "sys.version= 2.7.13 |Anaconda 2.5.0 (x86_64)| (default, Dec 20 2016, 23:05:08) \n",
      "[GCC 4.2.1 Compatible Apple LLVM 6.0 (clang-600.0.57)]\n",
      "np.__version__= 1.9.3\n"
     ]
    }
   ],
   "source": [
    "#import some basics and print the versions\n",
    "import sys\n",
    "print \"sys.version=\",sys.version\n",
    "import numpy as np\n",
    "import scipy as sp\n",
    "print \"np.__version__=\",np.__version__\n",
    "import matplotlib.pyplot as plt\n",
    "%matplotlib inline\n"
   ]
  },
  {
   "cell_type": "markdown",
   "metadata": {},
   "source": [
    "## Some helpful functions\n",
    "\n",
    "These are some functions we will use later. I'm defining them up-front so that we can talk about the maths without too much code getting in the way. It's probably best to ignore these for now, but when we get to them, you might want to come back here to understand what they do."
   ]
  },
  {
   "cell_type": "code",
   "execution_count": 2,
   "metadata": {
    "collapsed": false
   },
   "outputs": [
    {
     "name": "stdout",
     "output_type": "stream",
     "text": [
      "simple test of convmtx\n",
      "matrix to convolve [1,-1] on a 5 point vector= [[ 1. -1.  0.  0.  0.  0.]\n",
      " [ 0.  1. -1.  0.  0.  0.]\n",
      " [ 0.  0.  1. -1.  0.  0.]\n",
      " [ 0.  0.  0.  1. -1.  0.]\n",
      " [ 0.  0.  0.  0.  1. -1.]]\n"
     ]
    }
   ],
   "source": [
    "from scipy import linalg as spla\n",
    "\n",
    "def convmtx(h, n):\n",
    "    \"\"\"\n",
    "    Equivalent of MATLAB's convmtx function, http://www.mathworks.com/help/signal/ref/convmtx.html.\n",
    "    \n",
    "    Makes the convolution matrix, C. The product C.x is the convolution of h and x.\n",
    "    \n",
    "    Args\n",
    "        h (ndarray): a 1D array, the kernel.\n",
    "        n (int): the number of rows to make.\n",
    "        \n",
    "    Returns\n",
    "        ndarray. Size m+n-1\n",
    "    \"\"\"\n",
    "    col_1 = np.r_[h[0], np.zeros(n-1)]\n",
    "    row_1 = np.r_[h, np.zeros(n-1)]\n",
    "    return spla.toeplitz(col_1, row_1)\n",
    "mymatrix=convmtx(np.array([1, -1]), 5)\n",
    "print \"simple test of convmtx\"\n",
    "print \"matrix to convolve [1,-1] on a 5 point vector=\",convmtx([1, -1], 5)"
   ]
  },
  {
   "cell_type": "markdown",
   "metadata": {},
   "source": [
    "## Construct the model m\n",
    "\n",
    "We start with the slightly odd-seeming number of samples 51. This is because when we calculate the impedance contrasts (reflectivities), we'll lose a sample. Since I'd like 50 samples in the final reflectivity model `m`, we have to start with 50 + 1 samples in the impedance model.\n"
   ]
  },
  {
   "cell_type": "code",
   "execution_count": 3,
   "metadata": {
    "collapsed": false
   },
   "outputs": [
    {
     "data": {
      "image/png": "[encoded data removed]",
      "text/plain": [
       "<matplotlib.figure.Figure at 0x1157d4350>"
      ]
     },
     "metadata": {},
     "output_type": "display_data"
    },
    {
     "name": "stdout",
     "output_type": "stream",
     "text": [
      "m.size= 50\n"
     ]
    }
   ],
   "source": [
    "# Impedance, imp     VP    RHO\n",
    "imp = np.ones(51) * 2550 * 2650\n",
    "imp[10:15] =        2700 * 2750\n",
    "imp[15:27] =        2400 * 2450\n",
    "imp[27:35] =        2800 * 3000\n",
    "\n",
    "# really want reflectivity, so compute and plot it.\n",
    "m = (imp[1:] - imp[:-1]) / (imp[1:] + imp[:-1])\n",
    "\n",
    "fig=plt.figure()\n",
    "ax = fig.add_subplot(111)\n",
    "ax.set_title('Acoustic impedence and reflectivity')\n",
    "\n",
    "plt.plot(m)\n",
    "\n",
    "# We can plot the impedance too, scaled to fit on this plot, so we\n",
    "# can see how the interface property relates to the rock property.\n",
    "plt.plot(imp/1e8, alpha=0.5)\n",
    "plt.show()\n",
    "print 'm.size=',m.size\n"
   ]
  },
  {
   "cell_type": "markdown",
   "metadata": {},
   "source": [
    "Notice that we lost a sample: now there are only 50 samples. This is what we wanted.\n",
    "\n",
    "## Forward operator: convolution with wavelet"
   ]
  },
  {
   "cell_type": "markdown",
   "metadata": {},
   "source": [
    "Now we make the kernel matrix *G*, which represents convolution.\n"
   ]
  },
  {
   "cell_type": "code",
   "execution_count": 4,
   "metadata": {
    "collapsed": false
   },
   "outputs": [
    {
     "data": {
      "image/png": "[encoded data removed]",
      "text/plain": [
       "<matplotlib.figure.Figure at 0x115a84210>"
      ]
     },
     "metadata": {},
     "output_type": "display_data"
    }
   ],
   "source": [
    "from scipy.signal import ricker\n",
    "wavelet = ricker(points=20, a=2)\n",
    "\n",
    "# normalize the wavelet amplitude to 1 so that the amplitude relates directly to the reflectivity.\n",
    "\n",
    "wavelet /= np.amax(wavelet)\n",
    "\n",
    "plt.plot(wavelet)\n",
    "plt.show()\n"
   ]
  },
  {
   "cell_type": "code",
   "execution_count": 5,
   "metadata": {
    "collapsed": false
   },
   "outputs": [
    {
     "data": {
      "image/png": "[encoded data removed]",
      "text/plain": [
       "<matplotlib.figure.Figure at 0x119a0abd0>"
      ]
     },
     "metadata": {},
     "output_type": "display_data"
    }
   ],
   "source": [
    "\n",
    "# Make G.\n",
    "G = convmtx(wavelet, m.size)[:, 10:60]\n",
    "fig=plt.figure()\n",
    "ax = fig.add_subplot(111)\n",
    "ax.set_title('Matrix for wavelet convolution')\n",
    "\n",
    "\n",
    "plt.imshow(G, cmap='jet', interpolation='none')\n",
    "plt.savefig('figure_convolution_matrix.png', dpi=200, facecolor=fig.get_facecolor())\n",
    "\n",
    "\n",
    "plt.show()\n"
   ]
  },
  {
   "cell_type": "markdown",
   "metadata": {},
   "source": [
    "## Forward model the data d\n",
    "\n",
    "Now we can perform the forward problem: computing the data. We use the formulation\n",
    "\n",
    "$$ \\mathbf{d} = \\mathbf{Gm} $$\n",
    "\n",
    "Note that this equation is often rearranged and written $$ \\mathbf{Ax} = \\mathbf{b} $$ in linear algebra textbooks and in other tutorials, etc. Just in case you're looking for more examples. In that case, **A** is analogous to **G**, and **b** to **d**, and we're solving for **x** not **m**. All just notation &mdash; we can of course call things whatever we want."
   ]
  },
  {
   "cell_type": "code",
   "execution_count": 6,
   "metadata": {
    "collapsed": false,
    "scrolled": false
   },
   "outputs": [
    {
     "data": {
      "image/png": "[encoded data removed]",
      "text/plain": [
       "<matplotlib.figure.Figure at 0x119ade7d0>"
      ]
     },
     "metadata": {},
     "output_type": "display_data"
    }
   ],
   "source": [
    "# plot trace computed with matrix and numpy convolve.  \n",
    "# They should be identical.  Then compute d (the data) using the G matrix\n",
    "fig=plt.figure()\n",
    "ax = fig.add_subplot(111)\n",
    "ax.set_title('model and data (wavelet convolved on model)')\n",
    "\n",
    "\n",
    "plt.plot(np.convolve(wavelet, m, mode='same'), c='#462f7c', lw=3)\n",
    "plt.plot(np.dot(G , m), 'red')\n",
    "plt.plot(m)\n",
    "plt.savefig('figure_model_data.png', dpi=200, facecolor=fig.get_facecolor())\n",
    "plt.show()\n",
    "\n",
    "d = np.dot(G , m )"
   ]
  },
  {
   "cell_type": "code",
   "execution_count": 7,
   "metadata": {
    "collapsed": false,
    "scrolled": false
   },
   "outputs": [
    {
     "data": {
      "image/png": "[encoded data removed]",
      "text/plain": [
       "<matplotlib.figure.Figure at 0x11a0ef890>"
      ]
     },
     "metadata": {},
     "output_type": "display_data"
    },
    {
     "data": {
      "image/png": "[encoded data removed]",
      "text/plain": [
       "<matplotlib.figure.Figure at 0x11a0c5350>"
      ]
     },
     "metadata": {},
     "output_type": "display_data"
    }
   ],
   "source": [
    "# define the Claerbout style convolution function that has switches\n",
    "# for add and adj\n",
    "def adj_null(adj, add, x, y):\n",
    "    if add:\n",
    "        return\n",
    "    if adj:\n",
    "        x[:]=0\n",
    "    else:\n",
    "        y[:]=0\n",
    "    return\n",
    "# validate adj_null function (turned off)\n",
    "if False:\n",
    "    x=np.zeros(20)\n",
    "    y=np.zeros(20)\n",
    "    x[x.size/2]=1.0\n",
    "    y[y.size/2]=1.0\n",
    "    print 'x=',x\n",
    "    print 'y=',y\n",
    "    adj_null(True,True,x,y)\n",
    "    print 'x=',x\n",
    "    print 'y=',y\n",
    "\n",
    "def convolve(adj,add,x,y,wavelet,lag_t0):\n",
    "    adj_null(adj, add, x, y)\n",
    "    for iwavelet in range(wavelet.size):\n",
    "        shift=iwavelet-lag_t0\n",
    "        if adj:\n",
    "            if shift==0:\n",
    "                x+=y*wavelet[iwavelet]\n",
    "            elif shift >0:\n",
    "                x[:-shift]+=y[shift:]*wavelet[iwavelet]\n",
    "            else:\n",
    "                x[-shift:]+=y[:shift]*wavelet[iwavelet]\n",
    "  \n",
    "        else:\n",
    "            if shift==0:\n",
    "                y+=x*wavelet[iwavelet]\n",
    "            elif shift >0:\n",
    "                y[shift:]+=x[:-shift]*wavelet[iwavelet]\n",
    "            else:\n",
    "                y[:shift]+=x[-shift:]*wavelet[iwavelet]\n",
    "\n",
    "                \n",
    "# convolve the ricker wavelet using numpy.convolve, G matrix, and \n",
    "# the new convolve function.  Plot them all on the same plot to see \n",
    "# if they look the same.\n",
    "\n",
    "wavelet_lag_t0=wavelet.size/2-1\n",
    "# make y array same size as m array (previously it was a short test array)\n",
    "y=np.zeros(m.size)\n",
    "\n",
    "convolve(False,False,m,y, wavelet, wavelet_lag_t0)\n",
    "plt.plot(y, c='#462f7c', lw=3)\n",
    "plt.plot(np.dot(G , m), 'red')\n",
    "plt.plot(np.convolve(wavelet, m, mode='same'), c='#462f7c', lw=3)\n",
    "\n",
    "plt.show()\n",
    "\n",
    "# test the adjoint switch.  The adjoint should reverse the wavelet.\n",
    "# make an asymetrical wavelet.\n",
    "wavelet1=np.array([0.0,0.0,1.0,-2.0,.50])\n",
    "wavelet1_lag_t0=2\n",
    "y=np.zeros(51)\n",
    "y[y.size/2]=1.0\n",
    "x=np.zeros(y.size)\n",
    "plt.plot(np.convolve(wavelet1, y, mode='same'), c='#462f7c', lw=3)\n",
    "# this should make x array that has wavelet reversed from previous\n",
    "convolve(True,False,x,y, wavelet1, wavelet1_lag_t0)\n",
    "plt.plot(x, c='#462f7c', lw=3)     \n",
    "\n",
    "plt.show()\n",
    "\n"
   ]
  },
  {
   "cell_type": "code",
   "execution_count": 8,
   "metadata": {
    "collapsed": false
   },
   "outputs": [
    {
     "name": "stdout",
     "output_type": "stream",
     "text": [
      "5 random numbers= [ 0.80024413  0.31674116  0.688771    0.12624226  0.24545647]\n",
      "5 more random numbers= [ 0.45433213  0.17802908  0.85972122  0.1905721   0.5577749 ]\n",
      "<convolve(x),y> = -2.17782213684 <x , convolveadj(y)>= -2.17782213684\n",
      "diff= 0.0\n"
     ]
    }
   ],
   "source": [
    "# test adj is working correctly\n",
    "# previous visual tests looks good.  The asymetric wavelet is flipped.\n",
    "# another test is Claerbout's dot using random x and y vetors, see if\n",
    "# <convolve(x),y> = <x , convolveadj(y)>\n",
    "# first just print some random numbers to test understanding of function\n",
    "print \"5 random numbers=\",np.random.rand(5)\n",
    "print \"5 more random numbers=\",np.random.rand(5)\n",
    "\n",
    "# now run claerbout's dot test\n",
    "x=np.random.rand(51)\n",
    "y=np.random.rand(51)\n",
    "wavelet1=np.array([0.0,0.0,1.0,-2.0,.50])\n",
    "convolvex=np.random.rand(51)\n",
    "convolveadjy=np.random.rand(51)\n",
    "convolve(False,False,x           ,convolvex, wavelet1, 2)\n",
    "convolve(True ,False,convolveadjy,y        , wavelet1, 2)\n",
    "print '<convolve(x),y> =',np.dot(convolvex,y), '<x , convolveadj(y)>=',np.dot(x,convolveadjy)\n",
    "print 'diff=',np.dot(convolvex,y)-np.dot(x,convolveadjy)\n",
    "\n"
   ]
  },
  {
   "cell_type": "code",
   "execution_count": null,
   "metadata": {
    "collapsed": true
   },
   "outputs": [],
   "source": [
    "# recreate results from previous tutorial.\n",
    "# solve for m_est and test the solution (compute d_pred from m_est)\n",
    "m_est = np.linalg.lstsq(G, d,rcond=.2)[0]\n",
    "d_pred = np.dot(G , m_est )"
   ]
  },
  {
   "cell_type": "code",
   "execution_count": null,
   "metadata": {
    "collapsed": false
   },
   "outputs": [],
   "source": [
    "fig=plt.figure()\n",
    "ax = fig.add_subplot(111)\n",
    "ax.set_title('model and least square estimate')\n",
    "\n",
    "plt.plot(m)\n",
    "plt.plot(m_est)\n",
    "plt.savefig('figure_model_lstsq_est.png', dpi=200, facecolor=fig.get_facecolor())\n",
    "plt.show()\n",
    "\n",
    "\n",
    "fig=plt.figure()\n",
    "ax = fig.add_subplot(111)\n",
    "ax.set_title('data and least square prediction')\n",
    "\n",
    "plt.plot(d_pred)\n",
    "plt.plot(d)\n",
    "plt.savefig('figure_data_lstsq_pred.png', dpi=200, facecolor=fig.get_facecolor())\n",
    "\n",
    "plt.show()\n",
    "\n"
   ]
  },
  {
   "cell_type": "code",
   "execution_count": null,
   "metadata": {
    "collapsed": false
   },
   "outputs": [],
   "source": [
    "# estimate model using conjugate gradient method\n",
    "\n",
    "# first simpify gou's pseudo code removing right proconditioner, ie set R=identity\n",
    "# this makes z the same as deltax.\n",
    "# x=0\n",
    "# r=d - F*x\n",
    "# s=0\n",
    "# beta=0\n",
    "# iterate (\n",
    "#    deltax = F'*r\n",
    "#    if not first iteration beta=<deltax,deltax>/gamma\n",
    "#    gamma=<deltax,deltax>\n",
    "#    s=deltax + beta*s\n",
    "#    deltar= F*s\n",
    "#    alpha=gamma/<deltar,deltar>\n",
    "#    x=x + alpha*s\n",
    "#    r=r - alpha*deltar\n",
    "#)\n",
    "# Adopt the pseudo code variables to solve our problem\n",
    "# x - m_est the model we are trying to estimate\n",
    "# d - d the seimsic trace\n",
    "# F - the convolution operator\n",
    "\n",
    "# x=0\n",
    "x=np.zeros(d.size)\n",
    "# r=d - F*x\n",
    "F_x=np.zeros(d.size)\n",
    "convolve(False,False,x,F_x, wavelet, wavelet_lag_t0)\n",
    "r=d - F_x\n",
    "beta=0.0\n",
    "# iterate\n",
    "niter=4\n",
    "# allocate work arrays\n",
    "deltax=np.zeros(d.size)\n",
    "deltar=np.zeros(d.size)\n",
    "s=np.zeros(d.size)\n",
    "# label the plots\n",
    "fig=plt.figure()\n",
    "ax = fig.add_subplot(111)\n",
    "ax.set_title('model and %d conjugate gradient iterations'%niter)\n",
    "\n",
    "# plot the answer (each iteration will overplot the answer)\n",
    "plt.plot(m)\n",
    "for iter in range(niter):\n",
    "    # deltax= F'*r\n",
    "    convolve(True,False,deltax,r,wavelet,wavelet_lag_t0)\n",
    "    # if not first iteration beta=<deltax,deltax>/gamma\n",
    "    if iter!=0:\n",
    "        beta=np.dot(deltax,deltax)\n",
    "    #    gamma=<deltax,deltax>\n",
    "    gamma=np.dot(deltax,deltax)\n",
    "    #    s=deltax + beta*s\n",
    "    s=deltax + beta*s\n",
    "    #    deltar= F*s\n",
    "    convolve(False,False,s,deltar,wavelet,wavelet_lag_t0)\n",
    "    #    alpha=gamma/<deltar,deltar>\n",
    "    alpha=gamma/np.dot(deltar,deltar)\n",
    "    #    x=x + alpha*s\n",
    "    x=x + alpha*s\n",
    "    #    r=r - alpha*deltar\n",
    "    r=r - alpha*deltar\n",
    "    plt.plot(x)\n",
    "\n",
    "m_cgest=x\n",
    "#show the result\n",
    "plt.savefig('figure_cg_est_iter.png', dpi=200, facecolor=fig.get_facecolor())\n",
    "\n",
    "plt.show()\n",
    "\n",
    "if False:\n",
    "    plt.plot(x)\n",
    "    plt.show()\n",
    "    plt.plot(m_est)\n",
    "    plt.show()\n",
    "\n",
    "fig=plt.figure()\n",
    "ax = fig.add_subplot(111)\n",
    "ax.set_title('model, least square, and conjugate gradient estimates')\n",
    "\n",
    "plt.plot(m)\n",
    "plt.plot(m_cgest)\n",
    "plt.plot(m_est)\n",
    "plt.savefig('figure_model_lstsq_cg_est.png', dpi=200, facecolor=fig.get_facecolor())\n",
    "\n",
    "plt.show()\n",
    "\n"
   ]
  },
  {
   "cell_type": "code",
   "execution_count": null,
   "metadata": {
    "collapsed": false
   },
   "outputs": [],
   "source": [
    "fig=plt.figure()\n",
    "ax = fig.add_subplot(111)\n",
    "ax.set_title('data and conjugate gradient prediction')\n",
    "d_cgpred=np.zeros(m_cgest.size)\n",
    "convolve(False,False,m_cgest,d_cgpred,wavelet,wavelet_lag_t0)\n",
    "plt.plot(d_cgpred)\n",
    "plt.plot(d)\n",
    "plt.savefig('figure_data_cg_pred.png', dpi=200, facecolor=fig.get_facecolor())\n",
    "\n",
    "\n",
    "plt.show()\n",
    "\n"
   ]
  },
  {
   "cell_type": "code",
   "execution_count": null,
   "metadata": {
    "collapsed": false,
    "scrolled": true
   },
   "outputs": [],
   "source": [
    "# estimate model using preconditioned conjugate gradient method\n",
    "\n",
    "# I will use the previous unconditioned results and attempt to concentrate \n",
    "# amplitude in the locations that already have large amplitude.  The \n",
    "# preconditioner is to scale by sqrt(previous result smoothed amplitude^2).\n",
    "# this will make the large amplitude in the estimated model larger.\n",
    "\n",
    "# compute R.  Make plot comparint it to previous result (m_cgest)\n",
    "fig=plt.figure()\n",
    "ax = fig.add_subplot(111)\n",
    "ax.set_title('previous conjugate gradient model estimate and R')\n",
    "R=np.sqrt(np.convolve(np.ones(5)/5.0, m_cgest*m_cgest, mode='same'))\n",
    "plt.plot(m_cgest)\n",
    "plt.plot(R)\n",
    "plt.savefig('figure_cg_est_R.png', dpi=200, facecolor=fig.get_facecolor())\n",
    "\n",
    "\n",
    "plt.show()\n",
    "# x=0\n",
    "# r=d - F*x\n",
    "# s=0\n",
    "# beta=0\n",
    "# iterate (\n",
    "#    deltax = F'*r\n",
    "#    z=R * R' * deltax\n",
    "#    if not first iteration beta=<deltax,z>/gamma\n",
    "#    gamma=<deltax,z>\n",
    "#    s=z + beta*s\n",
    "#    deltar= F*s\n",
    "#    alpha=gamma/<deltar,deltar>\n",
    "#    x=x + alpha*s\n",
    "#    r=r - alpha*deltar\n",
    "#)\n",
    "# Adopt the pseudo code variables to solve our problem\n",
    "# x - m_est the model we are trying to estimate\n",
    "# d - d the seimsic trace\n",
    "# F - the convolution operator\n",
    "\n",
    "# x=0\n",
    "x=np.zeros(d.size)\n",
    "# r=d - F*x\n",
    "F_x=np.zeros(d.size)\n",
    "convolve(False,False,x,F_x, wavelet, wavelet_lag_t0)\n",
    "r=d - F_x\n",
    "beta=0.0\n",
    "# iterate\n",
    "niter=6\n",
    "# allocate work arrays\n",
    "deltax=np.zeros(d.size)\n",
    "deltar=np.zeros(d.size)\n",
    "s=np.zeros(d.size)\n",
    "# label the plots\n",
    "fig=plt.figure()\n",
    "ax = fig.add_subplot(111)\n",
    "ax.set_title('model and %d prec conjugate gradient iterations'%niter)\n",
    "\n",
    "# plot the answer (each iteration will overplot the answer)\n",
    "plt.plot(m)\n",
    "for iter in range(niter):\n",
    "    # deltax= F'*r\n",
    "    convolve(True,False,deltax,r,wavelet,wavelet_lag_t0)\n",
    "    #z=R * R'' * deltax\n",
    "    z=R * R * deltax\n",
    "    # if not first iteration beta=<deltax,z>/gamma\n",
    "    if iter!=0:\n",
    "        beta=np.dot(deltax,z)\n",
    "    #    gamma=<deltax,z>\n",
    "    gamma=np.dot(deltax,z)\n",
    "    #    s=z + beta*s\n",
    "    s=z + beta*s\n",
    "    #    deltar= F*s\n",
    "    convolve(False,False,s,deltar,wavelet,wavelet_lag_t0)\n",
    "    #    alpha=gamma/<deltar,deltar>\n",
    "    alpha=gamma/np.dot(deltar,deltar)\n",
    "    #    x=x + alpha*s\n",
    "    x=x + alpha*s\n",
    "    #    r=r - alpha*deltar\n",
    "    r=r - alpha*deltar\n",
    "    plt.plot(x)\n",
    "\n",
    "m_pcgest=x\n",
    "#show the result\n",
    "plt.savefig('figure_model_pcg_est_iter.png', dpi=200, facecolor=fig.get_facecolor())\n",
    "\n",
    "plt.show()\n",
    "\n",
    "if False:\n",
    "    plt.plot(x)\n",
    "    plt.show()\n",
    "    plt.plot(m_est)\n",
    "    plt.show()\n",
    "\n",
    "fig=plt.figure()\n",
    "ax = fig.add_subplot(111)\n",
    "ax.set_title('model, conjugate gradient, and precond conjugate gradient')\n",
    "\n",
    "plt.plot(m)\n",
    "plt.plot(m_pcgest)\n",
    "plt.plot(m_cgest)\n",
    "plt.savefig('figure_model_cg_pcg_est.png', dpi=200, facecolor=fig.get_facecolor())\n",
    "\n",
    "\n",
    "plt.show()\n",
    "\n",
    "if False:\n",
    "    fig=plt.figure()\n",
    "    ax = fig.add_subplot(111)\n",
    "    ax.set_title('model, least square, precond conjugate gradient')\n",
    "\n",
    "    plt.plot(m)\n",
    "    plt.plot(m_pcgest)\n",
    "    plt.plot(m_est)\n",
    "    plt.show()\n",
    "\n",
    "\n"
   ]
  }
 ],
 "metadata": {
  "kernelspec": {
   "display_name": "Python 2",
   "language": "python",
   "name": "python2"
  },
  "language_info": {
   "codemirror_mode": {
    "name": "ipython",
    "version": 2
   },
   "file_extension": ".py",
   "mimetype": "text/x-python",
   "name": "python",
   "nbconvert_exporter": "python",
   "pygments_lexer": "ipython2",
   "version": "2.7.13"
  }
 },
 "nbformat": 4,
 "nbformat_minor": 0
}
